{
 "cells": [
  {
   "cell_type": "markdown",
   "metadata": {},
   "source": [
    "## Task 2.1 Unsupervised preprocessing and visualization"
   ]
  },
  {
   "cell_type": "code",
   "execution_count": 34,
   "metadata": {
    "execution": {
     "iopub.execute_input": "2025-03-22T15:33:17.173850Z",
     "iopub.status.busy": "2025-03-22T15:33:17.172661Z",
     "iopub.status.idle": "2025-03-22T15:33:17.756923Z",
     "shell.execute_reply": "2025-03-22T15:33:17.756139Z"
    }
   },
   "outputs": [
    {
     "data": {
      "text/html": [
       "<div>\n",
       "<style scoped>\n",
       "    .dataframe tbody tr th:only-of-type {\n",
       "        vertical-align: middle;\n",
       "    }\n",
       "\n",
       "    .dataframe tbody tr th {\n",
       "        vertical-align: top;\n",
       "    }\n",
       "\n",
       "    .dataframe thead th {\n",
       "        text-align: right;\n",
       "    }\n",
       "</style>\n",
       "<table border=\"1\" class=\"dataframe\">\n",
       "  <thead>\n",
       "    <tr style=\"text-align: right;\">\n",
       "      <th></th>\n",
       "      <th>Unnamed: 0</th>\n",
       "      <th>RedMeat</th>\n",
       "      <th>WhiteMeat</th>\n",
       "      <th>Eggs</th>\n",
       "      <th>Milk</th>\n",
       "      <th>Fish</th>\n",
       "      <th>Cereals</th>\n",
       "      <th>Starch</th>\n",
       "      <th>Nuts</th>\n",
       "      <th>Fr.Veg</th>\n",
       "    </tr>\n",
       "  </thead>\n",
       "  <tbody>\n",
       "    <tr>\n",
       "      <th>0</th>\n",
       "      <td>Albania</td>\n",
       "      <td>10.1</td>\n",
       "      <td>1.4</td>\n",
       "      <td>0.5</td>\n",
       "      <td>8.9</td>\n",
       "      <td>0.2</td>\n",
       "      <td>42.3</td>\n",
       "      <td>0.6</td>\n",
       "      <td>5.5</td>\n",
       "      <td>1.7</td>\n",
       "    </tr>\n",
       "    <tr>\n",
       "      <th>1</th>\n",
       "      <td>Austria</td>\n",
       "      <td>8.9</td>\n",
       "      <td>14.0</td>\n",
       "      <td>4.3</td>\n",
       "      <td>19.9</td>\n",
       "      <td>2.1</td>\n",
       "      <td>28.0</td>\n",
       "      <td>3.6</td>\n",
       "      <td>1.3</td>\n",
       "      <td>4.3</td>\n",
       "    </tr>\n",
       "    <tr>\n",
       "      <th>2</th>\n",
       "      <td>Belgium</td>\n",
       "      <td>13.5</td>\n",
       "      <td>9.3</td>\n",
       "      <td>4.1</td>\n",
       "      <td>17.5</td>\n",
       "      <td>4.5</td>\n",
       "      <td>26.6</td>\n",
       "      <td>5.7</td>\n",
       "      <td>2.1</td>\n",
       "      <td>4.0</td>\n",
       "    </tr>\n",
       "    <tr>\n",
       "      <th>3</th>\n",
       "      <td>Bulgaria</td>\n",
       "      <td>7.8</td>\n",
       "      <td>6.0</td>\n",
       "      <td>1.6</td>\n",
       "      <td>8.3</td>\n",
       "      <td>1.2</td>\n",
       "      <td>56.7</td>\n",
       "      <td>1.1</td>\n",
       "      <td>3.7</td>\n",
       "      <td>4.2</td>\n",
       "    </tr>\n",
       "    <tr>\n",
       "      <th>4</th>\n",
       "      <td>Czechoslovakia</td>\n",
       "      <td>9.7</td>\n",
       "      <td>11.4</td>\n",
       "      <td>2.8</td>\n",
       "      <td>12.5</td>\n",
       "      <td>2.0</td>\n",
       "      <td>34.3</td>\n",
       "      <td>5.0</td>\n",
       "      <td>1.1</td>\n",
       "      <td>4.0</td>\n",
       "    </tr>\n",
       "  </tbody>\n",
       "</table>\n",
       "</div>"
      ],
      "text/plain": [
       "       Unnamed: 0  RedMeat  WhiteMeat  Eggs  Milk  Fish  Cereals  Starch  \\\n",
       "0         Albania     10.1        1.4   0.5   8.9   0.2     42.3     0.6   \n",
       "1         Austria      8.9       14.0   4.3  19.9   2.1     28.0     3.6   \n",
       "2         Belgium     13.5        9.3   4.1  17.5   4.5     26.6     5.7   \n",
       "3        Bulgaria      7.8        6.0   1.6   8.3   1.2     56.7     1.1   \n",
       "4  Czechoslovakia      9.7       11.4   2.8  12.5   2.0     34.3     5.0   \n",
       "\n",
       "   Nuts  Fr.Veg  \n",
       "0   5.5     1.7  \n",
       "1   1.3     4.3  \n",
       "2   2.1     4.0  \n",
       "3   3.7     4.2  \n",
       "4   1.1     4.0  "
      ]
     },
     "execution_count": 34,
     "metadata": {},
     "output_type": "execute_result"
    }
   ],
   "source": [
    "import pandas as pd\n",
    "\n",
    "# Lade CSV aus raw\n",
    "file_path = '../../data/raw/food.csv'\n",
    "food_data = pd.read_csv(file_path)\n",
    "\n",
    "food_data.head()\n"
   ]
  },
  {
   "cell_type": "markdown",
   "metadata": {},
   "source": [
    "## Datensatz analysieren – Dimensionen prüfen\n",
    "\n",
    ".shape sehen wir, wie viele Zeilen und Spalten der Datensatz hat.\n"
   ]
  },
  {
   "cell_type": "code",
   "execution_count": 35,
   "metadata": {
    "execution": {
     "iopub.execute_input": "2025-03-22T15:33:17.791235Z",
     "iopub.status.busy": "2025-03-22T15:33:17.790864Z",
     "iopub.status.idle": "2025-03-22T15:33:17.794693Z",
     "shell.execute_reply": "2025-03-22T15:33:17.794217Z"
    }
   },
   "outputs": [
    {
     "name": "stdout",
     "output_type": "stream",
     "text": [
      "Dimensionen des Datensatzes:\n",
      "(25, 10)\n"
     ]
    }
   ],
   "source": [
    "# Dimensionen anzeigen\n",
    "print(\"Dimensionen des Datensatzes:\")\n",
    "print(food_data.shape)\n"
   ]
  },
  {
   "cell_type": "markdown",
   "metadata": {},
   "source": [
    "## Fehlende Werte prüfen\n",
    "\n",
    ".isnull().sum() um zu zählen, wie viele Werte in jeder Spalte fehlen.\n"
   ]
  },
  {
   "cell_type": "code",
   "execution_count": 36,
   "metadata": {
    "execution": {
     "iopub.execute_input": "2025-03-22T15:33:17.797043Z",
     "iopub.status.busy": "2025-03-22T15:33:17.796825Z",
     "iopub.status.idle": "2025-03-22T15:33:17.800691Z",
     "shell.execute_reply": "2025-03-22T15:33:17.800233Z"
    }
   },
   "outputs": [
    {
     "name": "stdout",
     "output_type": "stream",
     "text": [
      "❓ Fehlende Werte pro Spalte:\n",
      "Unnamed: 0    0\n",
      "RedMeat       0\n",
      "WhiteMeat     0\n",
      "Eggs          0\n",
      "Milk          0\n",
      "Fish          0\n",
      "Cereals       0\n",
      "Starch        0\n",
      "Nuts          0\n",
      "Fr.Veg        0\n",
      "dtype: int64\n"
     ]
    }
   ],
   "source": [
    "# Fehlende Werte in Spalten zählen\n",
    "print(\"❓ Fehlende Werte pro Spalte:\")\n",
    "print(food_data.isnull().sum())\n"
   ]
  },
  {
   "cell_type": "markdown",
   "metadata": {},
   "source": [
    "## Statistische Analyse\n",
    "\n",
    ".describe() für statistischen Kennzahlen  \n"
   ]
  },
  {
   "cell_type": "code",
   "execution_count": 37,
   "metadata": {
    "execution": {
     "iopub.execute_input": "2025-03-22T15:33:17.803039Z",
     "iopub.status.busy": "2025-03-22T15:33:17.802807Z",
     "iopub.status.idle": "2025-03-22T15:33:17.821142Z",
     "shell.execute_reply": "2025-03-22T15:33:17.820579Z"
    }
   },
   "outputs": [
    {
     "name": "stdout",
     "output_type": "stream",
     "text": [
      "Statistische Kennzahlen:\n",
      "         RedMeat  WhiteMeat       Eggs       Milk       Fish    Cereals  \\\n",
      "count  25.000000  25.000000  25.000000  25.000000  25.000000  25.000000   \n",
      "mean    9.828000   7.896000   2.936000  17.112000   4.284000  32.248000   \n",
      "std     3.347078   3.694081   1.117617   7.105416   3.402533  10.974786   \n",
      "min     4.400000   1.400000   0.500000   4.900000   0.200000  18.600000   \n",
      "25%     7.800000   4.900000   2.700000  11.100000   2.100000  24.300000   \n",
      "50%     9.500000   7.800000   2.900000  17.600000   3.400000  28.000000   \n",
      "75%    10.600000  10.800000   3.700000  23.300000   5.800000  40.100000   \n",
      "max    18.000000  14.000000   4.700000  33.700000  14.200000  56.700000   \n",
      "\n",
      "          Starch       Nuts     Fr.Veg  \n",
      "count  25.000000  25.000000  25.000000  \n",
      "mean    4.276000   3.072000   4.136000  \n",
      "std     1.634085   1.985682   1.803903  \n",
      "min     0.600000   0.700000   1.400000  \n",
      "25%     3.100000   1.500000   2.900000  \n",
      "50%     4.700000   2.400000   3.800000  \n",
      "75%     5.700000   4.700000   4.900000  \n",
      "max     6.500000   7.800000   7.900000  \n"
     ]
    }
   ],
   "source": [
    "# Übersicht\n",
    "print(\"Statistische Kennzahlen:\")\n",
    "print(food_data.describe())\n"
   ]
  },
  {
   "cell_type": "markdown",
   "metadata": {},
   "source": [
    "## Z-Transformation mit StandardScaler\n",
    "\n",
    "StandardScaler aus sklearn.preprocessing\n"
   ]
  },
  {
   "cell_type": "code",
   "execution_count": 38,
   "metadata": {
    "execution": {
     "iopub.execute_input": "2025-03-22T15:33:17.823750Z",
     "iopub.status.busy": "2025-03-22T15:33:17.823535Z",
     "iopub.status.idle": "2025-03-22T15:33:18.771548Z",
     "shell.execute_reply": "2025-03-22T15:33:18.770781Z"
    }
   },
   "outputs": [
    {
     "name": "stdout",
     "output_type": "stream",
     "text": [
      "Z-transformierte Daten mit StandardScaler:\n",
      "    RedMeat  WhiteMeat      Eggs      Milk      Fish   Cereals    Starch  \\\n",
      "0  0.082941  -1.794750 -2.224584 -1.179570 -1.225033  0.934804 -2.295965   \n",
      "1 -0.282974   1.686446  1.245621  0.400468 -0.655111 -0.395051 -0.422218   \n",
      "2  1.119699   0.387905  1.062979  0.055732  0.064791 -0.525246  0.889405   \n",
      "3 -0.618396  -0.523837 -1.220051 -1.265754 -0.925074  2.273959 -1.983674   \n",
      "4 -0.039031   0.968104 -0.124197 -0.662467 -0.685107  0.190830  0.452198   \n",
      "\n",
      "       Nuts    Fr.Veg  \n",
      "0  1.247968 -1.378251  \n",
      "1 -0.910790  0.092789  \n",
      "2 -0.499598 -0.076947  \n",
      "3  0.322786  0.036210  \n",
      "4 -1.013588 -0.076947  \n"
     ]
    }
   ],
   "source": [
    "from sklearn.preprocessing import StandardScaler\n",
    "import pandas as pd\n",
    "\n",
    "# Spalten extrahieren\n",
    "numeric_features = food_data.select_dtypes(include='number')\n",
    "\n",
    "# StandardScaler initialisieren\n",
    "scaler = StandardScaler()\n",
    "\n",
    "# Z-Transformation durchführen\n",
    "z_transformed = scaler.fit_transform(numeric_features)\n",
    "\n",
    "# In DataFrame umwandeln\n",
    "z_transformed_df = pd.DataFrame(z_transformed, columns=numeric_features.columns)\n",
    "\n",
    "# Ausgabe\n",
    "print(\"Z-transformierte Daten mit StandardScaler:\")\n",
    "print(z_transformed_df.head())\n",
    "\n"
   ]
  },
  {
   "cell_type": "markdown",
   "metadata": {},
   "source": [
    "## PCA (Principal Component Analysis)\n",
    "\n",
    "Wir reduzieren auf PC1 und PC2\n",
    "\n"
   ]
  },
  {
   "cell_type": "code",
   "execution_count": 39,
   "metadata": {
    "execution": {
     "iopub.execute_input": "2025-03-22T15:33:18.775561Z",
     "iopub.status.busy": "2025-03-22T15:33:18.775151Z",
     "iopub.status.idle": "2025-03-22T15:33:18.934552Z",
     "shell.execute_reply": "2025-03-22T15:33:18.933866Z"
    }
   },
   "outputs": [
    {
     "name": "stdout",
     "output_type": "stream",
     "text": [
      "PCA-Ergebnis:\n",
      "        PC1       PC2\n",
      "0  3.557238 -1.664102\n",
      "1 -1.452006 -1.062702\n",
      "2 -1.655480  0.162784\n",
      "3  3.198708 -1.327895\n",
      "4 -0.378104 -0.615096\n"
     ]
    }
   ],
   "source": [
    "from sklearn.decomposition import PCA\n",
    "\n",
    "# PCA initialisieren\n",
    "pca = PCA(n_components=2)\n",
    "\n",
    "# PCA anwenden\n",
    "pca_result = pca.fit_transform(z_transformed_df)\n",
    "\n",
    "# Ergebnis\n",
    "pca_df = pd.DataFrame(pca_result, columns=['PC1', 'PC2'])\n",
    "\n",
    "# Ausgabe\n",
    "print(\"PCA-Ergebnis:\")\n",
    "print(pca_df.head())\n"
   ]
  },
  {
   "cell_type": "markdown",
   "metadata": {},
   "source": [
    "## Score Plot: PCA visualisieren\n",
    "\n",
    "mit matplotlib.pyplot.scatter()\n",
    "\n"
   ]
  },
  {
   "cell_type": "code",
   "execution_count": 40,
   "metadata": {
    "execution": {
     "iopub.execute_input": "2025-03-22T15:33:18.938335Z",
     "iopub.status.busy": "2025-03-22T15:33:18.937942Z",
     "iopub.status.idle": "2025-03-22T15:33:19.487035Z",
     "shell.execute_reply": "2025-03-22T15:33:19.486278Z"
    }
   },
   "outputs": [
    {
     "data": {
      "image/png": "[encoded data removed]",
      "text/plain": [
       "<Figure size 800x600 with 1 Axes>"
      ]
     },
     "metadata": {},
     "output_type": "display_data"
    }
   ],
   "source": [
    "import matplotlib.pyplot as plt\n",
    "\n",
    "# Score Plot erstellen\n",
    "plt.figure(figsize=(8, 6))\n",
    "plt.scatter(pca_df['PC1'], pca_df['PC2'], color='skyblue', edgecolor='black')\n",
    "\n",
    "# Achsen beschriften\n",
    "plt.xlabel(\"PC1\")\n",
    "plt.ylabel(\"PC2\")\n",
    "plt.title(\"PCA Score Plot (PC1 vs PC2)\")\n",
    "plt.grid(True)\n",
    "\n",
    "plt.show()\n"
   ]
  }
 ],
 "metadata": {
  "kernelspec": {
   "display_name": "Python (venv)",
   "language": "python",
   "name": "venv"
  }
 },
 "nbformat": 4,
 "nbformat_minor": 2
}
