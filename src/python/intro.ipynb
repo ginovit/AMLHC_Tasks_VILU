{
 "cells": [
  {
   "cell_type": "markdown",
   "metadata": {},
   "source": [
    "Einführung: Task 1.1"
   ]
  },
  {
   "cell_type": "code",
   "execution_count": 1,
   "metadata": {
    "execution": {
     "iopub.execute_input": "2025-03-22T12:59:07.677767Z",
     "iopub.status.busy": "2025-03-22T12:59:07.677159Z",
     "iopub.status.idle": "2025-03-22T12:59:08.811362Z",
     "shell.execute_reply": "2025-03-22T12:59:08.810292Z"
    }
   },
   "outputs": [],
   "source": [
    "from sklearn import datasets\n",
    "import pandas as pd\n",
    "import numpy as np\n"
   ]
  },
  {
   "cell_type": "markdown",
   "metadata": {},
   "source": [
    "## Iris-Datensatz laden\n",
    "\n",
    "Diese Variante ist **lesbar und gut geeignet für Datenanalyse**.  \n",
    "Sie liefert `pandas.DataFrame` für Features (`X`) und `pandas.Series` für Zielwerte (`y`).\n"
   ]
  },
  {
   "cell_type": "code",
   "execution_count": 2,
   "metadata": {
    "execution": {
     "iopub.execute_input": "2025-03-22T12:59:08.815819Z",
     "iopub.status.busy": "2025-03-22T12:59:08.815493Z",
     "iopub.status.idle": "2025-03-22T12:59:08.831002Z",
     "shell.execute_reply": "2025-03-22T12:59:08.830458Z"
    }
   },
   "outputs": [
    {
     "data": {
      "text/html": [
       "<div>\n",
       "<style scoped>\n",
       "    .dataframe tbody tr th:only-of-type {\n",
       "        vertical-align: middle;\n",
       "    }\n",
       "\n",
       "    .dataframe tbody tr th {\n",
       "        vertical-align: top;\n",
       "    }\n",
       "\n",
       "    .dataframe thead th {\n",
       "        text-align: right;\n",
       "    }\n",
       "</style>\n",
       "<table border=\"1\" class=\"dataframe\">\n",
       "  <thead>\n",
       "    <tr style=\"text-align: right;\">\n",
       "      <th></th>\n",
       "      <th>sepal length (cm)</th>\n",
       "      <th>sepal width (cm)</th>\n",
       "      <th>petal length (cm)</th>\n",
       "      <th>petal width (cm)</th>\n",
       "      <th>target</th>\n",
       "    </tr>\n",
       "  </thead>\n",
       "  <tbody>\n",
       "    <tr>\n",
       "      <th>0</th>\n",
       "      <td>5.1</td>\n",
       "      <td>3.5</td>\n",
       "      <td>1.4</td>\n",
       "      <td>0.2</td>\n",
       "      <td>0</td>\n",
       "    </tr>\n",
       "    <tr>\n",
       "      <th>1</th>\n",
       "      <td>4.9</td>\n",
       "      <td>3.0</td>\n",
       "      <td>1.4</td>\n",
       "      <td>0.2</td>\n",
       "      <td>0</td>\n",
       "    </tr>\n",
       "    <tr>\n",
       "      <th>2</th>\n",
       "      <td>4.7</td>\n",
       "      <td>3.2</td>\n",
       "      <td>1.3</td>\n",
       "      <td>0.2</td>\n",
       "      <td>0</td>\n",
       "    </tr>\n",
       "    <tr>\n",
       "      <th>3</th>\n",
       "      <td>4.6</td>\n",
       "      <td>3.1</td>\n",
       "      <td>1.5</td>\n",
       "      <td>0.2</td>\n",
       "      <td>0</td>\n",
       "    </tr>\n",
       "    <tr>\n",
       "      <th>4</th>\n",
       "      <td>5.0</td>\n",
       "      <td>3.6</td>\n",
       "      <td>1.4</td>\n",
       "      <td>0.2</td>\n",
       "      <td>0</td>\n",
       "    </tr>\n",
       "  </tbody>\n",
       "</table>\n",
       "</div>"
      ],
      "text/plain": [
       "   sepal length (cm)  sepal width (cm)  petal length (cm)  petal width (cm)  \\\n",
       "0                5.1               3.5                1.4               0.2   \n",
       "1                4.9               3.0                1.4               0.2   \n",
       "2                4.7               3.2                1.3               0.2   \n",
       "3                4.6               3.1                1.5               0.2   \n",
       "4                5.0               3.6                1.4               0.2   \n",
       "\n",
       "   target  \n",
       "0       0  \n",
       "1       0  \n",
       "2       0  \n",
       "3       0  \n",
       "4       0  "
      ]
     },
     "execution_count": 2,
     "metadata": {},
     "output_type": "execute_result"
    }
   ],
   "source": [
    "# DataFrame-Variante\n",
    "iris_X_df, iris_y_df = datasets.load_iris(return_X_y=True, as_frame=True)\n",
    "\n",
    "# Zielspalte ergänzen (optional)\n",
    "iris_X_df[\"target\"] = iris_y_df\n",
    "\n",
    "# Vorschau\n",
    "iris_X_df.head()\n"
   ]
  },
  {
   "cell_type": "markdown",
   "metadata": {},
   "source": [
    "## Funktion zur Mittelwertberechnung\n",
    "\n",
    "Diese Funktion verwendet `apply()` auf Spaltenebene und berechnet den Mittelwert jeder Spalte.\n"
   ]
  },
  {
   "cell_type": "code",
   "execution_count": 3,
   "metadata": {
    "execution": {
     "iopub.execute_input": "2025-03-22T12:59:08.872042Z",
     "iopub.status.busy": "2025-03-22T12:59:08.871687Z",
     "iopub.status.idle": "2025-03-22T12:59:08.887587Z",
     "shell.execute_reply": "2025-03-22T12:59:08.887030Z"
    }
   },
   "outputs": [
    {
     "name": "stdout",
     "output_type": "stream",
     "text": [
      "Mittelwerte:\n",
      "\n",
      "sepal length (cm)    5.843333\n",
      "sepal width (cm)     3.057333\n",
      "petal length (cm)    3.758000\n",
      "petal width (cm)     1.199333\n",
      "target               1.000000\n",
      "dtype: float64\n",
      "Kontrolle:\n",
      "\n",
      "       sepal length (cm)  sepal width (cm)  petal length (cm)  \\\n",
      "count         150.000000        150.000000         150.000000   \n",
      "mean            5.843333          3.057333           3.758000   \n",
      "std             0.828066          0.435866           1.765298   \n",
      "min             4.300000          2.000000           1.000000   \n",
      "25%             5.100000          2.800000           1.600000   \n",
      "50%             5.800000          3.000000           4.350000   \n",
      "75%             6.400000          3.300000           5.100000   \n",
      "max             7.900000          4.400000           6.900000   \n",
      "\n",
      "       petal width (cm)      target  \n",
      "count        150.000000  150.000000  \n",
      "mean           1.199333    1.000000  \n",
      "std            0.762238    0.819232  \n",
      "min            0.100000    0.000000  \n",
      "25%            0.300000    0.000000  \n",
      "50%            1.300000    1.000000  \n",
      "75%            1.800000    2.000000  \n",
      "max            2.500000    2.000000  \n"
     ]
    }
   ],
   "source": [
    "def calcMeans(dataframe):\n",
    "    return dataframe.apply(lambda col: col.mean())\n",
    "\n",
    "means_df = calcMeans(iris_X_df)\n",
    "\n",
    "print(\"Mittelwerte:\\n\")\n",
    "print(means_df)\n",
    "\n",
    "print(\"Kontrolle:\\n\")\n",
    "print(iris_X_df.describe())\n",
    "\n"
   ]
  },
  {
   "cell_type": "markdown",
   "metadata": {},
   "source": [
    "## NumPy ndarray\n"
   ]
  },
  {
   "cell_type": "code",
   "execution_count": 4,
   "metadata": {
    "execution": {
     "iopub.execute_input": "2025-03-22T12:59:08.890746Z",
     "iopub.status.busy": "2025-03-22T12:59:08.890492Z",
     "iopub.status.idle": "2025-03-22T12:59:08.895330Z",
     "shell.execute_reply": "2025-03-22T12:59:08.894618Z"
    }
   },
   "outputs": [
    {
     "name": "stdout",
     "output_type": "stream",
     "text": [
      "⚡ Mittelwerte (NumPy ndarray):\n",
      "\n",
      "[5.84333333 3.05733333 3.758      1.19933333]\n"
     ]
    }
   ],
   "source": [
    "# NumPy-Variante\n",
    "iris_X_np, iris_y_np = datasets.load_iris(return_X_y=True)\n",
    "\n",
    "# Mittelwert mit NumPy direkt\n",
    "means_np = np.mean(iris_X_np, axis=0)\n",
    "\n",
    "print(\"⚡ Mittelwerte (NumPy ndarray):\\n\")\n",
    "print(means_np)\n"
   ]
  },
  {
   "cell_type": "markdown",
   "metadata": {},
   "source": [
    "## hallso"
   ]
  }
 ],
 "metadata": {
  "language_info": {
   "codemirror_mode": {
    "name": "ipython",
    "version": 3
   },
   "file_extension": ".py",
   "mimetype": "text/x-python",
   "name": "python",
   "nbconvert_exporter": "python",
   "pygments_lexer": "ipython3",
   "version": "3.12.7"
  }
 },
 "nbformat": 4,
 "nbformat_minor": 2
}
