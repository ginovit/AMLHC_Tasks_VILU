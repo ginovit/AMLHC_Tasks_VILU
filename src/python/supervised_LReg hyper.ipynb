{
 "cells": [
  {
   "cell_type": "markdown",
   "id": "6a83d8f6",
   "metadata": {},
   "source": [
    "## Task 4.3 Supervised Learning - Regression and hyperparameter tuning"
   ]
  },
  {
   "cell_type": "code",
   "execution_count": 1,
   "id": "8371e860",
   "metadata": {},
   "outputs": [
    {
     "name": "stdout",
     "output_type": "stream",
     "text": [
      "Dataset Info:\n",
      "<class 'pandas.core.frame.DataFrame'>\n",
      "RangeIndex: 208 entries, 0 to 207\n",
      "Columns: 135 entries, tpsa to logBBB\n",
      "dtypes: float64(119), int64(16)\n",
      "memory usage: 219.5 KB\n",
      "None\n",
      "\n",
      "First 5 rows of the dataset:\n",
      "        tpsa  nbasic  negative    vsa_hyd  a_aro   weight  peoe_vsa.0  \\\n",
      "0  12.030000       1         0  167.06700      0  156.293    76.94749   \n",
      "1  49.330002       0         0   92.64243      6  151.165    38.24339   \n",
      "2  50.529999       1         0  295.16700     15  366.485    58.05473   \n",
      "3  37.389999       0         0  319.11220     15  382.552    62.23933   \n",
      "4  37.389999       1         0  299.65800     12  326.464    74.80064   \n",
      "\n",
      "   peoe_vsa.1  peoe_vsa.2  peoe_vsa.3  ...  ctdh  ctaa    mchg    achg  \\\n",
      "0    43.44619     0.00000    0.000000  ...     1     1  0.9241  0.9241   \n",
      "1    25.52006     0.00000    8.619013  ...     2     2  1.2685  1.0420   \n",
      "2   124.74020    21.65084    8.619013  ...     1     4  1.2562  1.2562   \n",
      "3   124.74020    13.19232   21.785640  ...     1     3  1.1962  1.1962   \n",
      "4   118.04060    33.00190    0.000000  ...     1     3  1.2934  1.2934   \n",
      "\n",
      "     rdta      n_sp2    n_sp3      o_sp2      o_sp3  logBBB  \n",
      "0  1.0000   0.000000   6.0255   0.000000   0.000000    1.08  \n",
      "1  1.0000   0.000000   6.5681  32.010201  33.613499   -0.40  \n",
      "2  0.2500  26.973301  10.8567   0.000000  27.545099    0.22  \n",
      "3  0.3333  21.706499  11.0017   0.000000  15.131600    0.14  \n",
      "4  0.3333  24.206100  10.8109   0.000000  15.133300    0.69  \n",
      "\n",
      "[5 rows x 135 columns]\n"
     ]
    }
   ],
   "source": [
    "import pandas as pd\n",
    "\n",
    "# Define the file path\n",
    "file_path = '../../data/raw/BloodBrain.csv'\n",
    "\n",
    "# Load the dataset\n",
    "df = pd.read_csv(file_path)\n",
    "\n",
    "# Display basic information\n",
    "print(\"Dataset Info:\")\n",
    "print(df.info())\n",
    "\n",
    "# Display the first few rows\n",
    "print(\"\\nFirst 5 rows of the dataset:\")\n",
    "print(df.head())\n"
   ]
  },
  {
   "cell_type": "markdown",
   "id": "fec5cf48",
   "metadata": {},
   "source": [
    "## Split the dataset"
   ]
  },
  {
   "cell_type": "code",
   "execution_count": 2,
   "id": "c8882309",
   "metadata": {},
   "outputs": [
    {
     "name": "stdout",
     "output_type": "stream",
     "text": [
      "Training feature set shape: (156, 134)\n",
      "Test feature set shape: (52, 134)\n",
      "Training labels shape: (156,)\n",
      "Test labels shape: (52,)\n"
     ]
    }
   ],
   "source": [
    "from sklearn.model_selection import train_test_split\n",
    "\n",
    "# Separate features and target\n",
    "X = df.drop(columns='logBBB')  # all descriptors\n",
    "y = df['logBBB']               # target variable\n",
    "\n",
    "# Split into training and test sets (75% train, 25% test)\n",
    "X_train, X_test, y_train, y_test = train_test_split(\n",
    "    X, y, test_size=0.25, random_state=42\n",
    ")\n",
    "\n",
    "# Display the shapes of the resulting datasets\n",
    "print(\"Training feature set shape:\", X_train.shape)\n",
    "print(\"Test feature set shape:\", X_test.shape)\n",
    "print(\"Training labels shape:\", y_train.shape)\n",
    "print(\"Test labels shape:\", y_test.shape)\n"
   ]
  },
  {
   "cell_type": "markdown",
   "id": "f36a8de5",
   "metadata": {},
   "source": [
    "## Select a learning method"
   ]
  },
  {
   "cell_type": "code",
   "execution_count": 3,
   "id": "73e7d29d",
   "metadata": {},
   "outputs": [
    {
     "name": "stdout",
     "output_type": "stream",
     "text": [
      "Random Forest Regressor Performance:\n",
      "Mean Squared Error: 0.2539\n",
      "R^2 Score: 0.3926\n"
     ]
    }
   ],
   "source": [
    "from sklearn.ensemble import RandomForestRegressor\n",
    "from sklearn.metrics import mean_squared_error, r2_score\n",
    "\n",
    "# Initialize the model\n",
    "rf_model = RandomForestRegressor(random_state=42)\n",
    "\n",
    "# Fit the model to training data\n",
    "rf_model.fit(X_train, y_train)\n",
    "\n",
    "# Predict on the test set\n",
    "y_pred = rf_model.predict(X_test)\n",
    "\n",
    "# Evaluate performance\n",
    "mse = mean_squared_error(y_test, y_pred)\n",
    "r2 = r2_score(y_test, y_pred)\n",
    "\n",
    "print(\"Random Forest Regressor Performance:\")\n",
    "print(f\"Mean Squared Error: {mse:.4f}\")\n",
    "print(f\"R^2 Score: {r2:.4f}\")\n"
   ]
  },
  {
   "cell_type": "markdown",
   "id": "f939968c",
   "metadata": {},
   "source": [
    "## Perform 10-fold cross-validation"
   ]
  },
  {
   "cell_type": "code",
   "execution_count": 4,
   "id": "e725a4ed",
   "metadata": {},
   "outputs": [
    {
     "name": "stdout",
     "output_type": "stream",
     "text": [
      "Fitting 10 folds for each of 12 candidates, totalling 120 fits\n",
      "Best Parameters: {'max_depth': None, 'max_features': 'sqrt', 'n_estimators': 200}\n",
      "Best 10-Fold CV R²: 0.5798849878226449\n"
     ]
    }
   ],
   "source": [
    "from sklearn.model_selection import GridSearchCV\n",
    "from sklearn.ensemble import RandomForestRegressor\n",
    "\n",
    "# Define a clean parameter grid (no 'auto')\n",
    "param_grid = {\n",
    "    'n_estimators': [100, 200],\n",
    "    'max_depth': [None, 10, 20],\n",
    "    'max_features': ['sqrt', 'log2']\n",
    "}\n",
    "\n",
    "# Create the model\n",
    "rf = RandomForestRegressor(random_state=42)\n",
    "\n",
    "# GridSearch with 10-fold CV\n",
    "grid_search = GridSearchCV(\n",
    "    estimator=rf,\n",
    "    param_grid=param_grid,\n",
    "    cv=10,                # <- 10-fold cross-validation\n",
    "    scoring='r2',\n",
    "    n_jobs=-1,\n",
    "    verbose=1,\n",
    "    error_score='raise'   # Optional: reveals detailed error messages\n",
    ")\n",
    "\n",
    "# Fit the grid search to training data\n",
    "grid_search.fit(X_train, y_train)\n",
    "\n",
    "# Display results\n",
    "print(\"Best Parameters:\", grid_search.best_params_)\n",
    "print(\"Best 10-Fold CV R²:\", grid_search.best_score_)\n"
   ]
  },
  {
   "cell_type": "markdown",
   "id": "9fde484f",
   "metadata": {},
   "source": [
    "## Analyze performance values"
   ]
  },
  {
   "cell_type": "code",
   "execution_count": 5,
   "id": "8150fe75",
   "metadata": {},
   "outputs": [
    {
     "name": "stdout",
     "output_type": "stream",
     "text": [
      "Model Performance on Test Set:\n",
      "R² Score: 0.3922\n",
      "Mean Squared Error: 0.2541\n",
      "\n",
      " Top 10 Important Features:\n",
      "1. fnsa3: 0.0435\n",
      "2. tpsa: 0.0380\n",
      "3. prx: 0.0350\n",
      "4. tcnp: 0.0296\n",
      "5. most_positive_charge: 0.0282\n",
      "6. polar_area: 0.0277\n",
      "7. rpcg: 0.0259\n",
      "8. tpsa.1: 0.0219\n",
      "9. psa_npsa: 0.0209\n",
      "10. pnsa3: 0.0204\n"
     ]
    },
    {
     "data": {
      "image/png": "[encoded data removed]",
      "text/plain": [
       "<Figure size 1000x600 with 1 Axes>"
      ]
     },
     "metadata": {},
     "output_type": "display_data"
    }
   ],
   "source": [
    "from sklearn.metrics import mean_squared_error, r2_score\n",
    "import numpy as np\n",
    "import matplotlib.pyplot as plt\n",
    "\n",
    "# Use the best estimator from GridSearchCV\n",
    "best_model = grid_search.best_estimator_\n",
    "\n",
    "# Predict on the test set\n",
    "y_pred = best_model.predict(X_test)\n",
    "\n",
    "# Calculate performance metrics\n",
    "r2 = r2_score(y_test, y_pred)\n",
    "mse = mean_squared_error(y_test, y_pred)\n",
    "\n",
    "print(\"Model Performance on Test Set:\")\n",
    "print(f\"R² Score: {r2:.4f}\")\n",
    "print(f\"Mean Squared Error: {mse:.4f}\")\n",
    "\n",
    "# Get feature importances\n",
    "importances = best_model.feature_importances_\n",
    "feature_names = X_train.columns\n",
    "indices = np.argsort(importances)[::-1]  # Sort by importance descending\n",
    "\n",
    "# Display top 10 most important features\n",
    "print(\"\\n Top 10 Important Features:\")\n",
    "for i in range(10):\n",
    "    print(f\"{i+1}. {feature_names[indices[i]]}: {importances[indices[i]]:.4f}\")\n",
    "\n",
    "# Optional: Plot feature importances\n",
    "plt.figure(figsize=(10, 6))\n",
    "plt.title(\"Top 10 Feature Importances\")\n",
    "plt.bar(range(10), importances[indices[:10]], align='center')\n",
    "plt.xticks(range(10), feature_names[indices[:10]], rotation=45, ha='right')\n",
    "plt.tight_layout()\n",
    "plt.show()\n"
   ]
  },
  {
   "cell_type": "markdown",
   "id": "4824b5f0",
   "metadata": {},
   "source": [
    "## Apply the final model to the test set"
   ]
  },
  {
   "cell_type": "code",
   "execution_count": 6,
   "id": "594052eb",
   "metadata": {},
   "outputs": [
    {
     "name": "stdout",
     "output_type": "stream",
     "text": [
      "Final Model Performance on Test Set:\n",
      "Mean Squared Error (MSE): 0.2541\n",
      "R² Score: 0.3922\n"
     ]
    }
   ],
   "source": [
    "from sklearn.metrics import mean_squared_error, r2_score\n",
    "\n",
    "# Get the best trained model from GridSearchCV\n",
    "final_model = grid_search.best_estimator_\n",
    "\n",
    "# Predict on the test data\n",
    "y_test_pred = final_model.predict(X_test)\n",
    "\n",
    "# Evaluate predictions\n",
    "mse = mean_squared_error(y_test, y_test_pred)\n",
    "r2 = r2_score(y_test, y_test_pred)\n",
    "\n",
    "print(\"Final Model Performance on Test Set:\")\n",
    "print(f\"Mean Squared Error (MSE): {mse:.4f}\")\n",
    "print(f\"R² Score: {r2:.4f}\")\n"
   ]
  }
 ],
 "metadata": {
  "kernelspec": {
   "display_name": "Python (venv)",
   "language": "python",
   "name": "venv"
  },
  "language_info": {
   "codemirror_mode": {
    "name": "ipython",
    "version": 3
   },
   "file_extension": ".py",
   "mimetype": "text/x-python",
   "name": "python",
   "nbconvert_exporter": "python",
   "pygments_lexer": "ipython3",
   "version": "3.13.2"
  }
 },
 "nbformat": 4,
 "nbformat_minor": 5
}
